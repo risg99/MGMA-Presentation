{
  "nbformat": 4,
  "nbformat_minor": 0,
  "metadata": {
    "colab": {
      "provenance": [],
      "toc_visible": true,
      "include_colab_link": true
    },
    "kernelspec": {
      "name": "python3",
      "display_name": "Python 3"
    },
    "language_info": {
      "name": "python"
    }
  },
  "cells": [
    {
      "cell_type": "markdown",
      "metadata": {
        "id": "view-in-github",
        "colab_type": "text"
      },
      "source": [
        "<a href=\"https://colab.research.google.com/github/risg99/MGMA-Presentation/blob/main/Python_GraphX_Tutorial.ipynb\" target=\"_parent\"><img src=\"https://colab.research.google.com/assets/colab-badge.svg\" alt=\"Open In Colab\"/></a>"
      ]
    },
    {
      "cell_type": "markdown",
      "source": [
        "<center><img src='data:image/png;base64,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' width=200></center>\n",
        "\n",
        "<hr style=\" border:none; height:3px;\">\n",
        "<center> <font size=\"7\" color='black'> GraphX Tutorial </font></center>\n",
        "<font size=\"3\" color='#91053d'>\n",
        "\n",
        "<center>\n",
        "Alaa ALMUTAWA, Jezula GAGA, Rishika GUPTA <br>\n",
        "Under the guidance of: Nacera SEGHOUANI\n",
        "</center>\n",
        "</font>   \n",
        "<hr style=\" border:none; height:3px;\">"
      ],
      "metadata": {
        "id": "vHje2hqXJz4e"
      }
    },
    {
      "cell_type": "markdown",
      "source": [
        "# 1. Installation\n",
        "\n",
        "To make the tutorial simpler to execute for everyone, there are all the installation commands shared below. Please execute them."
      ],
      "metadata": {
        "id": "nG6HtQR6Kt7p"
      }
    },
    {
      "cell_type": "code",
      "source": [
        "# Installing libraries\n",
        "!pip install -q \"git+https://github.com/PHPirates/graphframes.git@add-setup.py#egg=graphframes&subdirectory=python\"\n",
        "!pip install -q pyspark==3.2.0\n",
        "!pip install -q networkx"
      ],
      "metadata": {
        "colab": {
          "base_uri": "https://localhost:8080/"
        },
        "id": "aPlpaJ8nKYlq",
        "outputId": "ead341c6-2d75-4c5e-8f2b-7f2b08b16d10"
      },
      "execution_count": 1,
      "outputs": [
        {
          "output_type": "stream",
          "name": "stdout",
          "text": [
            "  Preparing metadata (setup.py) ... \u001b[?25l\u001b[?25hdone\n",
            "  Building wheel for graphframes (setup.py) ... \u001b[?25l\u001b[?25hdone\n",
            "\u001b[2K     \u001b[90m━━━━━━━━━━━━━━━━━━━━━━━━━━━━━━━━━━━━━━━━\u001b[0m \u001b[32m281.3/281.3 MB\u001b[0m \u001b[31m3.8 MB/s\u001b[0m eta \u001b[36m0:00:00\u001b[0m\n",
            "\u001b[?25h  Preparing metadata (setup.py) ... \u001b[?25l\u001b[?25hdone\n",
            "\u001b[2K     \u001b[90m━━━━━━━━━━━━━━━━━━━━━━━━━━━━━━━━━━━━━━━━\u001b[0m \u001b[32m198.8/198.8 kB\u001b[0m \u001b[31m9.0 MB/s\u001b[0m eta \u001b[36m0:00:00\u001b[0m\n",
            "\u001b[?25h  Building wheel for pyspark (setup.py) ... \u001b[?25l\u001b[?25hdone\n"
          ]
        }
      ]
    },
    {
      "cell_type": "markdown",
      "source": [
        "Verifying the installation"
      ],
      "metadata": {
        "id": "75caQLSx46hL"
      }
    },
    {
      "cell_type": "code",
      "source": [
        "!pip show pyspark\n",
        "!pip show graphframes"
      ],
      "metadata": {
        "id": "k3bsTMUj4zBY",
        "colab": {
          "base_uri": "https://localhost:8080/"
        },
        "outputId": "6e1f69f4-3080-4ff7-ae91-25df9d819101"
      },
      "execution_count": 2,
      "outputs": [
        {
          "output_type": "stream",
          "name": "stdout",
          "text": [
            "Name: pyspark\n",
            "Version: 3.2.0\n",
            "Summary: Apache Spark Python API\n",
            "Home-page: https://github.com/apache/spark/tree/master/python\n",
            "Author: Spark Developers\n",
            "Author-email: dev@spark.apache.org\n",
            "License: http://www.apache.org/licenses/LICENSE-2.0\n",
            "Location: /usr/local/lib/python3.10/dist-packages\n",
            "Requires: py4j\n",
            "Required-by: \n",
            "Name: graphframes\n",
            "Version: 0.8.2\n",
            "Summary: \n",
            "Home-page: \n",
            "Author: \n",
            "Author-email: \n",
            "License: \n",
            "Location: /usr/local/lib/python3.10/dist-packages\n",
            "Requires: \n",
            "Required-by: \n"
          ]
        }
      ]
    },
    {
      "cell_type": "markdown",
      "source": [
        "Get the correct jars required for graphframes."
      ],
      "metadata": {
        "id": "Uf5d7lZ642hA"
      }
    },
    {
      "cell_type": "code",
      "source": [
        "!curl -L -o \"/usr/local/lib/python3.10/dist-packages/pyspark/jars/graphframes-0.8.2-spark3.2-s_2.12.jar\" http://dl.bintray.com/spark-packages/maven/graphframes/graphframes/0.8.2-spark3.2-s_2.12/graphframes-0.8.2-spark3.2-s_2.12.jar"
      ],
      "metadata": {
        "id": "iA49v8tY41uF",
        "colab": {
          "base_uri": "https://localhost:8080/"
        },
        "outputId": "86d51b2d-7c62-4fdc-fa7e-ec7dcc3c1d7b"
      },
      "execution_count": 3,
      "outputs": [
        {
          "output_type": "stream",
          "name": "stdout",
          "text": [
            "  % Total    % Received % Xferd  Average Speed   Time    Time     Time  Current\n",
            "                                 Dload  Upload   Total   Spent    Left  Speed\n",
            "100   164  100   164    0     0   1495      0 --:--:-- --:--:-- --:--:--  1490\n",
            "100   146  100   146    0     0    476      0 --:--:-- --:--:-- --:--:--   476\n"
          ]
        }
      ]
    },
    {
      "cell_type": "markdown",
      "source": [
        "# 2. Imports\n",
        "\n",
        "Making the necessary imports before advancing ahead in the tutorial."
      ],
      "metadata": {
        "id": "33VV1xdeK-sf"
      }
    },
    {
      "cell_type": "code",
      "source": [
        "# Importing libraries\n",
        "import pyspark\n",
        "from pyspark.sql import SparkSession\n",
        "from pyspark.sql import Row\n",
        "from pyspark.sql import functions as F\n",
        "from pyspark.sql import SQLContext, functions as sqlfunctions, types\n",
        "from pyspark.sql.functions import col, lit, greatest\n",
        "from pyspark.sql.functions import lit\n",
        "\n",
        "from graphframes import GraphFrame\n",
        "from graphframes import *\n",
        "from graphframes.lib import AggregateMessages as AM\n",
        "\n",
        "import csv\n",
        "import numpy as np\n",
        "import matplotlib.pyplot as plt\n",
        "import networkx as nx\n",
        "import time"
      ],
      "metadata": {
        "id": "qzor-YqdT7eM"
      },
      "execution_count": 4,
      "outputs": []
    },
    {
      "cell_type": "code",
      "source": [
        "# Creating a spark session\n",
        "spark = SparkSession.builder.appName(\"GraphX-Tutorial\").master(\"local[*]\").config(\"spark.jars.packages\", \"graphframes:graphframes:0.8.2-spark3.2-s_2.12\").getOrCreate()"
      ],
      "metadata": {
        "id": "D6_L2UouT3ND"
      },
      "execution_count": 5,
      "outputs": []
    },
    {
      "cell_type": "markdown",
      "source": [
        "# 3. GraphX Overview\n",
        "\n",
        "<center><img src='https://spark.apache.org/docs/latest/img/graphx_logo.png' width=700></center>\n",
        "\n",
        "* GraphX is a new component in Spark for graphs and **graph-parallel computation**.\n",
        "* At a high level, GraphX extends the Spark RDD by introducing a new **Graph abstraction**: a directed multigraph with properties attached to each vertex and edge.\n",
        "* To support graph computation, GraphX exposes a set of **fundamental operators** (e.g., subgraph, joinVertices, and aggregateMessages) as well as an optimized variant of the Pregel API.\n",
        "* In addition, GraphX includes a growing collection of **graph algorithms** to simplify graph analytics tasks."
      ],
      "metadata": {
        "id": "Ttz6Mvys7kal"
      }
    },
    {
      "cell_type": "markdown",
      "source": [
        "## 3.1. The Property Graph\n",
        "\n",
        "* The property graph is a directed multigraph with user defined objects attached to each vertex and edge.\n",
        "* A directed multigraph is a directed graph with potentially multiple parallel edges sharing the same source and destination vertex. The ability to support parallel edges simplifies modeling scenarios where there can be multiple relationships (e.g., co-worker and friend) between the same vertices.\n",
        "* Each vertex is keyed by a unique 64-bit long identifier (VertexId). GraphX does not impose any ordering constraints on the vertex identifiers.\n",
        "* Similarly, edges have corresponding source and destination vertex identifiers.\n",
        "* The property graph is parameterized over the vertex (VD) and edge (ED) types. These are the types of the objects associated with each vertex and edge respectively.\n",
        "\n",
        "**GraphX optimizes the representation of vertex and edge types when they are primitive data types (e.g., int, double, etc…) reducing the in memory footprint by storing them in specialized arrays.**\n",
        "\n",
        "* Like RDDs, property graphs are immutable, distributed, and fault-tolerant. Changes to the values or structure of the graph are accomplished by producing a new graph with the desired changes.\n",
        "  * Note that substantial parts of the original graph (i.e., unaffected structure, attributes, and indices) are reused in the new graph reducing the cost of this inherently functional data structure.\n",
        "* The graph is partitioned across the executors using a range of vertex partitioning heuristics. As with RDDs, each partition of the graph can be recreated on a different machine in the event of a failure."
      ],
      "metadata": {
        "id": "LVFnBiq87uHe"
      }
    },
    {
      "cell_type": "markdown",
      "source": [
        "## 3.2. An Example: Property Graph\n",
        "\n",
        "Suppose we want to construct a property graph consisting of the various collaborators on the GraphX project. The vertex property might contain the username and occupation. We could annotate edges with a string describing the relationships between collaborators:\n",
        "\n",
        "<center> <img src=\"https://spark.apache.org/docs/latest/img/property_graph.png\" width=500;></center>\n"
      ],
      "metadata": {
        "id": "koIKuXed86BE"
      }
    },
    {
      "cell_type": "markdown",
      "source": [
        "### 3.2.1. Graph creation"
      ],
      "metadata": {
        "id": "XadbbDqIDEaN"
      }
    },
    {
      "cell_type": "markdown",
      "source": [
        "Let us create the vertices and edges, and then create a graph for the above example."
      ],
      "metadata": {
        "id": "Qt16NEVqFcRw"
      }
    },
    {
      "cell_type": "code",
      "source": [
        "# Create a DataFrame for the vertices\n",
        "users_data = [\n",
        "    (3, (\"rxin\", \"student\")),\n",
        "    (7, (\"jgonzal\", \"postdoc\")),\n",
        "    (5, (\"franklin\", \"prof\")),\n",
        "    (2, (\"istoica\", \"prof\"))\n",
        "]\n",
        "users_columns = [\"id\", \"attributes\"]\n",
        "users = spark.createDataFrame(users_data, users_columns)\n",
        "\n",
        "# Create a DataFrame for edges\n",
        "relationships_data = [\n",
        "    (3, 7, \"collab\"),\n",
        "    (5, 3, \"advisor\"),\n",
        "    (2, 5, \"colleague\"),\n",
        "    (5, 7, \"pi\")\n",
        "]\n",
        "relationships_columns = [\"src\", \"dst\", \"relationship\"]\n",
        "relationships = spark.createDataFrame(relationships_data, relationships_columns)\n",
        "\n",
        "# Define a default user in case there are relationships with missing users\n",
        "default_user = (\"John Doe\", \"Missing\")\n",
        "\n",
        "# Build the initial GraphFrame\n",
        "graph = GraphFrame(users, relationships)"
      ],
      "metadata": {
        "id": "VVVCu6aP9ZZO"
      },
      "execution_count": 6,
      "outputs": []
    },
    {
      "cell_type": "markdown",
      "source": [
        "### 3.2.2. Basic graph properties\n",
        "\n",
        "Exploring some properties of a graph like:\n",
        "\n",
        "* How many vertices? What are they?\n",
        "* How many edges? What are they?\n",
        "* Graph triplets?\n",
        "* Degrees of the vertices?\n",
        "* InDegrees and OutDegrees?\n",
        "\n",
        "Quick Recap:\n",
        "* **Number of Vertices**: The total count of nodes in the graph.\n",
        "* **Vertices**: The individual nodes in the graph.\n",
        "* **Number of Edges**: The total count of connections between vertices in the graph.\n",
        "* **Edges**: The connections or relationships between pairs of vertices.\n",
        "* **Graph Triplets**: The set of triplets (source vertex, destination vertex, edge information) representing the relationships between vertices and edges.\n",
        "* **Degrees of the Vertices**: The number of edges incident to a vertex.\n",
        "* **InDegree**: The number of incoming edges to a vertex.\n",
        "* **OutDegree**: The number of outgoing edges from a vertex."
      ],
      "metadata": {
        "id": "L4bwjIvDDI4u"
      }
    },
    {
      "cell_type": "code",
      "source": [
        "# Display the graph's properties\n",
        "print(\"Number of vertices:\", graph.vertices.count())\n",
        "print(\"Number of edges:\", graph.edges.count())\n",
        "\n",
        "# Display the vertices, edges and triplets\n",
        "print(\"Vertices:\")\n",
        "graph.vertices.show()\n",
        "\n",
        "print(\"Edges:\")\n",
        "graph.edges.show()\n",
        "\n",
        "print(\"Triplets:\")\n",
        "graph.triplets.show()"
      ],
      "metadata": {
        "colab": {
          "base_uri": "https://localhost:8080/"
        },
        "id": "M6uNdxVe-_-1",
        "outputId": "18339f28-3499-4540-a8d7-9780fd695f4e"
      },
      "execution_count": 7,
      "outputs": [
        {
          "output_type": "stream",
          "name": "stdout",
          "text": [
            "Number of vertices: 4\n",
            "Number of edges: 4\n",
            "Vertices:\n",
            "+---+------------------+\n",
            "| id|        attributes|\n",
            "+---+------------------+\n",
            "|  3|   {rxin, student}|\n",
            "|  7|{jgonzal, postdoc}|\n",
            "|  5|  {franklin, prof}|\n",
            "|  2|   {istoica, prof}|\n",
            "+---+------------------+\n",
            "\n",
            "Edges:\n",
            "+---+---+------------+\n",
            "|src|dst|relationship|\n",
            "+---+---+------------+\n",
            "|  3|  7|      collab|\n",
            "|  5|  3|     advisor|\n",
            "|  2|  5|   colleague|\n",
            "|  5|  7|          pi|\n",
            "+---+---+------------+\n",
            "\n",
            "Triplets:\n",
            "+--------------------+-----------------+--------------------+\n",
            "|                 src|             edge|                 dst|\n",
            "+--------------------+-----------------+--------------------+\n",
            "|{5, {franklin, pr...|       {5, 7, pi}|{7, {jgonzal, pos...|\n",
            "|{3, {rxin, student}}|   {3, 7, collab}|{7, {jgonzal, pos...|\n",
            "|{5, {franklin, pr...|  {5, 3, advisor}|{3, {rxin, student}}|\n",
            "|{2, {istoica, prof}}|{2, 5, colleague}|{5, {franklin, pr...|\n",
            "+--------------------+-----------------+--------------------+\n",
            "\n"
          ]
        }
      ]
    },
    {
      "cell_type": "code",
      "source": [
        "# Display degree related properties of the graph\n",
        "print(\"In-degrees:\")\n",
        "graph.inDegrees.show()\n",
        "\n",
        "print(\"Out-degrees:\")\n",
        "graph.outDegrees.show()\n",
        "\n",
        "print(\"Degrees:\")\n",
        "graph.degrees.show()"
      ],
      "metadata": {
        "colab": {
          "base_uri": "https://localhost:8080/"
        },
        "id": "rYge_AEaB6i8",
        "outputId": "7f061a83-b9f8-4ecb-c658-faf9303a7c9a"
      },
      "execution_count": 8,
      "outputs": [
        {
          "output_type": "stream",
          "name": "stdout",
          "text": [
            "In-degrees:\n",
            "+---+--------+\n",
            "| id|inDegree|\n",
            "+---+--------+\n",
            "|  7|       2|\n",
            "|  3|       1|\n",
            "|  5|       1|\n",
            "+---+--------+\n",
            "\n",
            "Out-degrees:\n",
            "+---+---------+\n",
            "| id|outDegree|\n",
            "+---+---------+\n",
            "|  5|        2|\n",
            "|  3|        1|\n",
            "|  2|        1|\n",
            "+---+---------+\n",
            "\n",
            "Degrees:\n",
            "+---+------+\n",
            "| id|degree|\n",
            "+---+------+\n",
            "|  7|     2|\n",
            "|  5|     3|\n",
            "|  3|     2|\n",
            "|  2|     1|\n",
            "+---+------+\n",
            "\n"
          ]
        }
      ]
    },
    {
      "cell_type": "markdown",
      "source": [
        "### 3.2.3. Simple graph queries\n",
        "\n",
        "Performing basic queries on graphs is pretty much similar to SQL or any other database language. For this section, we execute \"filter\" operation to achieve the required query."
      ],
      "metadata": {
        "id": "ABngIUeJC8gk"
      }
    },
    {
      "cell_type": "markdown",
      "source": [
        "**Query 1 - Count all users which are postdocs:**\n",
        "\n",
        "It counts the number of users in the graph who are postdoctoral researchers. It looks at the 'attributes' of each user and checks if the second attribute is 'postdoc'."
      ],
      "metadata": {
        "id": "0GiZIik5FzAG"
      }
    },
    {
      "cell_type": "code",
      "source": [
        "# Count all users which are postdocs\n",
        "postdoc_count = graph.vertices.filter(\"attributes._2 = 'postdoc'\").count()\n",
        "\n",
        "print(\"Number of postdocs:\", postdoc_count)"
      ],
      "metadata": {
        "colab": {
          "base_uri": "https://localhost:8080/"
        },
        "id": "GgV4FYWn-4_9",
        "outputId": "20ee3978-122a-46fd-a663-6d1a3936e49f"
      },
      "execution_count": 9,
      "outputs": [
        {
          "output_type": "stream",
          "name": "stdout",
          "text": [
            "Number of postdocs: 1\n"
          ]
        }
      ]
    },
    {
      "cell_type": "markdown",
      "source": [
        "**Query 2 - Count all the edges where src > dst:**\n",
        "\n",
        "It counts the number of edges in the graph where the source vertex is greater than the destination vertex. In simpler terms, it counts how many connections between users are going from a higher-numbered user to a lower-numbered user."
      ],
      "metadata": {
        "id": "riWUPVU8GB3K"
      }
    },
    {
      "cell_type": "code",
      "source": [
        "# Count all the edges where src > dst\n",
        "src_gt_dst_count = graph.edges.filter(\"src > dst\").count()\n",
        "\n",
        "# Alternative way to write it could be:\n",
        "# src_gt_dst_count = graph.edges.filter(col(\"src\") > col(\"dst\")).count()\n",
        "\n",
        "print(\"Number of edges where src > dst:\", src_gt_dst_count)"
      ],
      "metadata": {
        "colab": {
          "base_uri": "https://localhost:8080/"
        },
        "id": "xjdWFUjgF5mI",
        "outputId": "c59adf87-698f-4b07-96ca-96529ad9cc35"
      },
      "execution_count": 10,
      "outputs": [
        {
          "output_type": "stream",
          "name": "stdout",
          "text": [
            "Number of edges where src > dst: 1\n"
          ]
        }
      ]
    },
    {
      "cell_type": "markdown",
      "source": [
        "**Query 3 - Print triplet view:**\n",
        "\n",
        "The query extracts information from the triplets view of the graph, creates a string representation for each fact, and then prints the collected facts. The facts describe relationships between source and destination vertices through specific edge types."
      ],
      "metadata": {
        "id": "QdQTuDdyGQOb"
      }
    },
    {
      "cell_type": "code",
      "source": [
        "# Use the triplets view to create an RDD of facts\n",
        "facts = graph.triplets.selectExpr(\"src['attributes']['_1'] as src_name\", \"edge\", \"dst['attributes']['_1'] as dst_name\") \\\n",
        "            .rdd.map(lambda row: f\"{row.src_name} is the {row.edge} of {row.dst_name}\")\n",
        "\n",
        "# Print the collected facts\n",
        "facts.collect()"
      ],
      "metadata": {
        "colab": {
          "base_uri": "https://localhost:8080/"
        },
        "id": "Fjq2H9yL_pnG",
        "outputId": "f527e498-abee-4765-ecf0-78b1c5c44020"
      },
      "execution_count": 11,
      "outputs": [
        {
          "output_type": "execute_result",
          "data": {
            "text/plain": [
              "[\"franklin is the Row(src=5, dst=7, relationship='pi') of jgonzal\",\n",
              " \"rxin is the Row(src=3, dst=7, relationship='collab') of jgonzal\",\n",
              " \"franklin is the Row(src=5, dst=3, relationship='advisor') of rxin\",\n",
              " \"istoica is the Row(src=2, dst=5, relationship='colleague') of franklin\"]"
            ]
          },
          "metadata": {},
          "execution_count": 11
        }
      ]
    },
    {
      "cell_type": "markdown",
      "source": [
        "# 4. Message Passing Example - Pregel API\n",
        "\n",
        "In this example, the idea is to find the maximum ID reachable from each vertex in a directed graph, using a distributed algorithm. This will illustrate how Pregel API employs message-passing algorithms on graphs. The code is inspired by the this [source](https://github.com/kostasc96/distributed-graph-computations/blob/master/graph_demo.py).\n",
        "\n",
        "This example considers:\n",
        "* Vertices = 10 countries\n",
        "* Edges present between neighbouring countries (Note that, for demonstration purposes, edges might be added even though the country has no geographically land borders (an island))"
      ],
      "metadata": {
        "id": "AJS5GOLBYWgA"
      }
    },
    {
      "cell_type": "markdown",
      "source": [
        "## 4.1. Step 1 - Data Preparation:\n",
        "\n",
        "* Create two dataframes: countries_vertices and countries_edges.\n",
        "* The countries_vertices (vertices of the graph) correspond to a country with a unique ID.\n",
        "* The countries_edges (edges of the graph) indicate a directed edge from one country to another.\n",
        "\n",
        "\n",
        "\n",
        "> Note:\n",
        "* A vertex DataFrame should contain a special column named \"id\" which specifies unique IDs for each vertex in the graph.\n",
        "* An edge DataFrame should contain two special columns: \"src\" (source vertex ID of edge) and \"dst\" (destination vertex ID of edge).\n",
        "* Both DataFrames can have arbitrary other columns. Those columns can represent vertex and edge attributes.\n",
        "\n"
      ],
      "metadata": {
        "id": "Fp219Mw3Z5XR"
      }
    },
    {
      "cell_type": "code",
      "source": [
        "# Step 1 - Data Preparation\n",
        "\n",
        "# Define the vertices and edges DataFrames\n",
        "countries_vertices = spark.createDataFrame([('1', 'China'),\n",
        "                                  ('2', 'South Korea'),\n",
        "                                  ('3', 'Japan'),\n",
        "                                  ('4', 'India'),\n",
        "                                  ('5', 'Malaysia'),\n",
        "                                  ('6', 'Thailand'),\n",
        "                                  ('7', 'Singapore'),\n",
        "                                  ('8', 'Sri Lanka'),\n",
        "                                  ('9', 'Russia'),\n",
        "                                  ('10', 'Finland')],\n",
        "                                  ['id', 'country'])\n",
        "\n",
        "countries_edges = spark.createDataFrame([('1','2'),\n",
        "                                         ('1','4'),\n",
        "                                         ('1','9'),\n",
        "                                         ('2','1'),\n",
        "                                         ('2','3'),\n",
        "                                         ('3','2'),\n",
        "                                         ('4','1'),\n",
        "                                         ('4','8'),\n",
        "                                         ('5','6'),\n",
        "                                         ('5','7'),\n",
        "                                         ('6','5'),\n",
        "                                         ('6','7'),\n",
        "                                         ('7','6'),\n",
        "                                         ('8','4'),\n",
        "                                         ('9','1'),\n",
        "                                         ('9','10'),\n",
        "                                        ('10','9')],\n",
        "                                        ['src','dst'])"
      ],
      "metadata": {
        "id": "MA9ujqjcGOPL"
      },
      "execution_count": 31,
      "outputs": []
    },
    {
      "cell_type": "markdown",
      "source": [
        "## 4.2. Step 2 - Graph Creation:\n",
        "\n",
        "* Create a GraphFrame country_graph from the vertices and edges dataframes.\n",
        "* Initialize a value of -1 for each country.\n",
        "* Also, cache the vertices dataframe for performance optimization."
      ],
      "metadata": {
        "id": "byIiOitoahL2"
      }
    },
    {
      "cell_type": "code",
      "source": [
        "# Step 2 - Graph Creation\n",
        "\n",
        "# Initialize the 'value' column with -1\n",
        "countries_vertices = countries_vertices.withColumn(\"value\", lit(-1))\n",
        "\n",
        "# Create the initial graph\n",
        "country_graph = GraphFrame(countries_vertices, countries_edges)\n",
        "\n",
        "# Cache the vertices DataFrame\n",
        "cached_vertices = AM.getCachedDataFrame(countries_vertices)\n",
        "\n",
        "# Create graph\n",
        "country_graph = GraphFrame(cached_vertices, country_graph.edges)\n",
        "\n",
        "print('Printing the vertices-----------')\n",
        "country_graph.vertices.show()\n",
        "\n",
        "print('Printing the edges--------------')\n",
        "country_graph.edges.show()\n",
        "\n",
        "print('Printing the degrees------------')\n",
        "country_graph.degrees.show()"
      ],
      "metadata": {
        "colab": {
          "base_uri": "https://localhost:8080/"
        },
        "id": "dAVGY7XSab1f",
        "outputId": "28a10d6c-cdd5-41b6-eee6-a91fd16203b8"
      },
      "execution_count": 32,
      "outputs": [
        {
          "output_type": "stream",
          "name": "stdout",
          "text": [
            "Printing the vertices-----------\n",
            "+---+-----------+-----+\n",
            "| id|    country|value|\n",
            "+---+-----------+-----+\n",
            "|  1|      China|   -1|\n",
            "|  2|South Korea|   -1|\n",
            "|  3|      Japan|   -1|\n",
            "|  4|      India|   -1|\n",
            "|  5|   Malaysia|   -1|\n",
            "|  6|   Thailand|   -1|\n",
            "|  7|  Singapore|   -1|\n",
            "|  8|  Sri Lanka|   -1|\n",
            "|  9|     Russia|   -1|\n",
            "| 10|    Finland|   -1|\n",
            "+---+-----------+-----+\n",
            "\n",
            "Printing the edges--------------\n",
            "+---+---+\n",
            "|src|dst|\n",
            "+---+---+\n",
            "|  1|  2|\n",
            "|  1|  4|\n",
            "|  1|  9|\n",
            "|  2|  1|\n",
            "|  2|  3|\n",
            "|  3|  2|\n",
            "|  4|  1|\n",
            "|  4|  8|\n",
            "|  5|  6|\n",
            "|  5|  7|\n",
            "|  6|  5|\n",
            "|  6|  7|\n",
            "|  7|  6|\n",
            "|  8|  4|\n",
            "|  9|  1|\n",
            "|  9| 10|\n",
            "| 10|  9|\n",
            "+---+---+\n",
            "\n",
            "Printing the degrees------------\n",
            "+---+------+\n",
            "| id|degree|\n",
            "+---+------+\n",
            "|  3|     2|\n",
            "|  8|     2|\n",
            "|  9|     4|\n",
            "|  1|     6|\n",
            "|  4|     4|\n",
            "|  2|     4|\n",
            "|  7|     3|\n",
            "|  5|     3|\n",
            "|  6|     4|\n",
            "| 10|     2|\n",
            "+---+------+\n",
            "\n"
          ]
        }
      ]
    },
    {
      "cell_type": "markdown",
      "source": [
        "Before moving ahead, let's try to visualize the graph."
      ],
      "metadata": {
        "id": "679TEttsddZq"
      }
    },
    {
      "cell_type": "code",
      "source": [
        "# Convert GraphFrame to a NetworkX graph\n",
        "nx_graph = nx.from_pandas_edgelist(countries_edges.toPandas(), 'src', 'dst')\n",
        "\n",
        "# Create a dictionary mapping node IDs to their corresponding country names\n",
        "# Convert vertices to Pandas DataFrame and create node_country_mapping\n",
        "node_country_mapping = countries_vertices.toPandas().set_index('id')['country'].to_dict()\n",
        "\n",
        "# Visualize the graph\n",
        "nx.draw(nx_graph, labels=node_country_mapping, node_color='orange', node_size=500, font_size=10, font_color='black')\n",
        "\n",
        "plt.show()"
      ],
      "metadata": {
        "colab": {
          "base_uri": "https://localhost:8080/",
          "height": 516
        },
        "id": "ff_2VGbidVPv",
        "outputId": "2807bd3b-126b-4fe2-93a3-e26d849dc974"
      },
      "execution_count": 39,
      "outputs": [
        {
          "output_type": "display_data",
          "data": {
            "text/plain": [
              "<Figure size 640x480 with 1 Axes>"
            ],
            "image/png": "[encoded data removed]"
          },
          "metadata": {}
        }
      ]
    },
    {
      "cell_type": "markdown",
      "source": [
        "## 4.3. Step 3 - Algorithm:\n",
        "\n",
        "* Implementing the algorithm in the algorithm function using the Pregel API for graph processing.\n",
        "* Iteratively send messages from each vertex to its neighbors.\n",
        "  * Message is the ID of the vertex if its value is -1.\n",
        "  * For each vertex collect the messages from its neighbors and update its value to be the maximum of its current value and the maximum ID in the messages, if the maximum ID is less than its own ID.\n",
        "  * Stop the algorithm when there are no vertices with value -1, meaning that all vertices have found the maximum ID reachable from them."
      ],
      "metadata": {
        "id": "ERl7nS2va0uR"
      }
    },
    {
      "cell_type": "code",
      "source": [
        "# Step 3 - Algorithm\n",
        "\n",
        "# Initialize variables for the algorithm\n",
        "value = -1\n",
        "superstep = 0\n",
        "\n",
        "# Functions\n",
        "\n",
        "# Define a function to get the maximum value\n",
        "def getid_maximum(vertex_id, msgids,i,value):\n",
        "    maxid = -1\n",
        "    flag = False\n",
        "    for id in msgids:\n",
        "        flag = True\n",
        "        break\n",
        "    if(flag):\n",
        "        maxid = max(msgids)\n",
        "    if(value != -1):\n",
        "        return int(value)\n",
        "    return i if(int(maxid) < int(vertex_id)) else -1\n",
        "getid_maximum_udf = F.udf(getid_maximum, types.IntegerType())\n",
        "\n",
        "# Algorithm\n",
        "\n",
        "def algorithm(g):\n",
        "    i = 0\n",
        "    while(True):\n",
        "        # Aggregate messages for each vertex\n",
        "        aggregates = g.aggregateMessages(F.collect_set(AM.msg).alias(\"agg\"),sendToDst=F.when(AM.src['value'] == -1, AM.src[\"id\"]))\n",
        "\n",
        "        # Determine a new value for each vertex based on aggregated messages\n",
        "        new_vertices = g.vertices.join(aggregates, on=\"id\", how=\"left_outer\") \\\n",
        "            .withColumn(\"newValue\", getid_maximum_udf(\"id\", \"agg\", lit(i), \"value\")) \\\n",
        "            .drop(\"agg\") \\\n",
        "            .withColumn('max_by_rows', greatest('value', 'newValue')) \\\n",
        "            .drop(\"value\", \"newValue\") \\\n",
        "            .withColumnRenamed(\"max_by_rows\", \"value\")\n",
        "\n",
        "        cached_new_vertices = AM.getCachedDataFrame(new_vertices)\n",
        "        g = GraphFrame(cached_new_vertices, g.edges)\n",
        "        i += 1\n",
        "        print('Iteration: ', i)\n",
        "        g.vertices.show()\n",
        "\n",
        "        # Check if there are still vertices with a value of -1\n",
        "        if(g.filterVertices(\"value == -1\").dropIsolatedVertices().edges.count() == 0):\n",
        "            final_df = g.vertices\n",
        "            final_df = final_df.withColumn(\"value\", F.when(final_df[\"value\"] == -1, i).otherwise(final_df[\"value\"]))\n",
        "            break\n",
        "    return final_df"
      ],
      "metadata": {
        "id": "VdS4mC7Eaubu"
      },
      "execution_count": 35,
      "outputs": []
    },
    {
      "cell_type": "markdown",
      "source": [
        "## 4.4. Step 4 - Results:\n",
        "Prints the elapsed time of the algorithm and the final dataframe, which shows the maximum ID reachable from each vertex."
      ],
      "metadata": {
        "id": "GXtQuNG4bfD8"
      }
    },
    {
      "cell_type": "code",
      "source": [
        "# Step 4 - Result\n",
        "print('Iteration 0: ')\n",
        "country_graph.vertices.show()\n",
        "\n",
        "start_time = time.time()\n",
        "finaldf = algorithm(country_graph)\n",
        "elapsed = time.time() - start_time\n",
        "\n",
        "print(\"-----Algorithm-----\")\n",
        "print(\"---Elapsed time: \" + str(elapsed))\n",
        "finaldf.show()"
      ],
      "metadata": {
        "colab": {
          "base_uri": "https://localhost:8080/"
        },
        "id": "USpCciUMbbVB",
        "outputId": "af51faef-dd06-4a87-e8f4-1c0d26719ad6"
      },
      "execution_count": 36,
      "outputs": [
        {
          "output_type": "stream",
          "name": "stdout",
          "text": [
            "Iteration 0: \n",
            "+---+-----------+-----+\n",
            "| id|    country|value|\n",
            "+---+-----------+-----+\n",
            "|  1|      China|   -1|\n",
            "|  2|South Korea|   -1|\n",
            "|  3|      Japan|   -1|\n",
            "|  4|      India|   -1|\n",
            "|  5|   Malaysia|   -1|\n",
            "|  6|   Thailand|   -1|\n",
            "|  7|  Singapore|   -1|\n",
            "|  8|  Sri Lanka|   -1|\n",
            "|  9|     Russia|   -1|\n",
            "| 10|    Finland|   -1|\n",
            "+---+-----------+-----+\n",
            "\n",
            "Iteration:  1\n",
            "+---+-----------+-----+\n",
            "| id|    country|value|\n",
            "+---+-----------+-----+\n",
            "|  1|      China|   -1|\n",
            "| 10|    Finland|    0|\n",
            "|  2|South Korea|   -1|\n",
            "|  3|      Japan|    0|\n",
            "|  4|      India|   -1|\n",
            "|  5|   Malaysia|   -1|\n",
            "|  6|   Thailand|   -1|\n",
            "|  7|  Singapore|    0|\n",
            "|  8|  Sri Lanka|    0|\n",
            "|  9|     Russia|   -1|\n",
            "+---+-----------+-----+\n",
            "\n",
            "Iteration:  2\n",
            "+---+-----------+-----+\n",
            "| id|    country|value|\n",
            "+---+-----------+-----+\n",
            "|  1|      China|   -1|\n",
            "| 10|    Finland|    0|\n",
            "|  2|South Korea|    1|\n",
            "|  3|      Japan|    0|\n",
            "|  4|      India|    1|\n",
            "|  5|   Malaysia|   -1|\n",
            "|  6|   Thailand|    1|\n",
            "|  7|  Singapore|    0|\n",
            "|  8|  Sri Lanka|    0|\n",
            "|  9|     Russia|    1|\n",
            "+---+-----------+-----+\n",
            "\n",
            "-----Algorithm-----\n",
            "---Elapsed time: 5.931611776351929\n",
            "+---+-----------+-----+\n",
            "| id|    country|value|\n",
            "+---+-----------+-----+\n",
            "|  1|      China|    2|\n",
            "| 10|    Finland|    0|\n",
            "|  2|South Korea|    1|\n",
            "|  3|      Japan|    0|\n",
            "|  4|      India|    1|\n",
            "|  5|   Malaysia|    2|\n",
            "|  6|   Thailand|    1|\n",
            "|  7|  Singapore|    0|\n",
            "|  8|  Sri Lanka|    0|\n",
            "|  9|     Russia|    1|\n",
            "+---+-----------+-----+\n",
            "\n"
          ]
        }
      ]
    },
    {
      "cell_type": "markdown",
      "source": [
        "# 5. Graph Algorithms"
      ],
      "metadata": {
        "id": "OvOYVeV5wDQH"
      }
    },
    {
      "cell_type": "markdown",
      "source": [
        "## 5.1. An Example: Friends Graph"
      ],
      "metadata": {
        "id": "nubQjEpRCawh"
      }
    },
    {
      "cell_type": "code",
      "source": [
        "friends_vertices = spark.createDataFrame([\n",
        "  (\"a\", \"Alice\", 34),\n",
        "  (\"b\", \"Bob\", 36),\n",
        "  (\"c\", \"Charlie\", 30),\n",
        "  (\"d\", \"David\", 29),\n",
        "  (\"e\", \"Esther\", 32),\n",
        "  (\"f\", \"Fanny\", 36),\n",
        "  (\"g\", \"George\", 60)], [\"id\", \"name\", \"age\"])\n",
        "\n",
        "friends_edges = spark.createDataFrame([\n",
        "  (\"a\", \"b\", \"friend\"),\n",
        "  (\"b\", \"c\", \"follow\"),\n",
        "  (\"c\", \"b\", \"follow\"),\n",
        "  (\"f\", \"c\", \"follow\"),\n",
        "  (\"e\", \"f\", \"follow\"),\n",
        "  (\"e\", \"d\", \"friend\"),\n",
        "  (\"d\", \"a\", \"friend\"),\n",
        "  (\"a\", \"e\", \"friend\")\n",
        "], [\"src\", \"dst\", \"relationship\"])\n",
        "\n",
        "# Create the initial graph\n",
        "friends_graph = GraphFrame(friends_vertices, friends_edges)\n",
        "\n",
        "friends_graph.vertices.show()\n",
        "friends_graph.edges.show()"
      ],
      "metadata": {
        "colab": {
          "base_uri": "https://localhost:8080/"
        },
        "id": "FFaTA2S5wSNr",
        "outputId": "1862682e-be31-41f2-db61-db2c4c3b89a8"
      },
      "execution_count": 17,
      "outputs": [
        {
          "output_type": "stream",
          "name": "stdout",
          "text": [
            "+---+-------+---+\n",
            "| id|   name|age|\n",
            "+---+-------+---+\n",
            "|  a|  Alice| 34|\n",
            "|  b|    Bob| 36|\n",
            "|  c|Charlie| 30|\n",
            "|  d|  David| 29|\n",
            "|  e| Esther| 32|\n",
            "|  f|  Fanny| 36|\n",
            "|  g| George| 60|\n",
            "+---+-------+---+\n",
            "\n",
            "+---+---+------------+\n",
            "|src|dst|relationship|\n",
            "+---+---+------------+\n",
            "|  a|  b|      friend|\n",
            "|  b|  c|      follow|\n",
            "|  c|  b|      follow|\n",
            "|  f|  c|      follow|\n",
            "|  e|  f|      follow|\n",
            "|  e|  d|      friend|\n",
            "|  d|  a|      friend|\n",
            "|  a|  e|      friend|\n",
            "+---+---+------------+\n",
            "\n"
          ]
        }
      ]
    },
    {
      "cell_type": "code",
      "source": [
        "# Convert GraphFrame to a NetworkX graph\n",
        "nx_graph = nx.from_pandas_edgelist(friends_graph.edges.toPandas(), 'src', 'dst')\n",
        "\n",
        "# Create a dictionary mapping node IDs to their corresponding country names\n",
        "# Convert vertices to Pandas DataFrame and create node_friends_mapping\n",
        "node_friends_mapping = friends_graph.vertices.toPandas().set_index('id')['name'].to_dict()\n",
        "\n",
        "# Assigning random positions for all nodes\n",
        "pos = {\n",
        "    'a': (7.22, 6.32),\n",
        "    'b': (13.03, 6.05),\n",
        "    'c': (16.55, 5.05),\n",
        "    'd': (0.79, 4.29),\n",
        "    'e': (9.54, 0.90),\n",
        "    'f': (20.24, 3.58),\n",
        "    'g': (5.78, 8.60)\n",
        "}\n",
        "\n",
        "# Visualize the graph\n",
        "nx.draw(nx_graph, labels=node_friends_mapping, pos=pos, node_color='orange', node_size=1000, font_size=10, font_color='black')\n",
        "\n",
        "plt.show()"
      ],
      "metadata": {
        "colab": {
          "base_uri": "https://localhost:8080/",
          "height": 516
        },
        "id": "i26GQVUIxuUn",
        "outputId": "da17ea1b-4524-4d8e-c171-14bd2f6feca3"
      },
      "execution_count": 18,
      "outputs": [
        {
          "output_type": "display_data",
          "data": {
            "text/plain": [
              "<Figure size 640x480 with 1 Axes>"
            ],
            "image/png": "[encoded data removed]"
          },
          "metadata": {}
        }
      ]
    },
    {
      "cell_type": "markdown",
      "source": [
        "**Note:** The node \"g\": George is not shown as it has neither incoming nor outgoing edges."
      ],
      "metadata": {
        "id": "60Gf9Z3W7tjr"
      }
    },
    {
      "cell_type": "markdown",
      "source": [
        "## 5.2. Breadth-First Search\n",
        "\n",
        "Search from \"Esther\" for users of age < 32."
      ],
      "metadata": {
        "id": "L0gHQSiY1Rfp"
      }
    },
    {
      "cell_type": "code",
      "source": [
        "paths = friends_graph.bfs(\"name = 'Esther'\", \"age < 32\")"
      ],
      "metadata": {
        "id": "QZFLjNoZxK-X"
      },
      "execution_count": 19,
      "outputs": []
    },
    {
      "cell_type": "code",
      "source": [
        "paths.show()"
      ],
      "metadata": {
        "colab": {
          "base_uri": "https://localhost:8080/"
        },
        "id": "-BRIrDEbxjRz",
        "outputId": "79be29d4-7838-4692-bd19-c7b3a6321e21"
      },
      "execution_count": 20,
      "outputs": [
        {
          "output_type": "stream",
          "name": "stdout",
          "text": [
            "+---------------+--------------+--------------+\n",
            "|           from|            e0|            to|\n",
            "+---------------+--------------+--------------+\n",
            "|{e, Esther, 32}|{e, d, friend}|{d, David, 29}|\n",
            "+---------------+--------------+--------------+\n",
            "\n"
          ]
        }
      ]
    },
    {
      "cell_type": "markdown",
      "source": [
        "The search may also be limited by edge filters and maximum path lengths.\n"
      ],
      "metadata": {
        "id": "uZIo1RZE1FtH"
      }
    },
    {
      "cell_type": "code",
      "source": [
        "filteredPaths = friends_graph.bfs(\n",
        "  fromExpr = \"name = 'Esther'\",\n",
        "  toExpr = \"age < 32\",\n",
        "  edgeFilter = \"relationship != 'friend'\",\n",
        "  maxPathLength = 3)\n",
        "\n",
        "filteredPaths.show()"
      ],
      "metadata": {
        "colab": {
          "base_uri": "https://localhost:8080/"
        },
        "id": "DNlFclEU1I5h",
        "outputId": "f15157ef-0aec-471f-c851-22cca032f358"
      },
      "execution_count": 21,
      "outputs": [
        {
          "output_type": "stream",
          "name": "stdout",
          "text": [
            "+---------------+--------------+--------------+--------------+----------------+\n",
            "|           from|            e0|            v1|            e1|              to|\n",
            "+---------------+--------------+--------------+--------------+----------------+\n",
            "|{e, Esther, 32}|{e, f, follow}|{f, Fanny, 36}|{f, c, follow}|{c, Charlie, 30}|\n",
            "+---------------+--------------+--------------+--------------+----------------+\n",
            "\n"
          ]
        }
      ]
    },
    {
      "cell_type": "markdown",
      "source": [
        "## 5.3. Connected Components\n",
        "\n",
        "Compute the connected component membership of each vertex and return a DataFrame with each vertex assigned a component ID. The GraphFrames connected components implementation can take advantage of checkpointing to improve performance."
      ],
      "metadata": {
        "id": "gW90e2E11Wwq"
      }
    },
    {
      "cell_type": "code",
      "source": [
        "spark.sparkContext.setCheckpointDir(\"/tmp/graphframes-example-connected-components\")\n",
        "result = friends_graph.connectedComponents()\n",
        "\n",
        "result.show()"
      ],
      "metadata": {
        "colab": {
          "base_uri": "https://localhost:8080/"
        },
        "id": "gaeG6k_b1dTY",
        "outputId": "107ec442-5888-4dcc-f552-0b2feb796857"
      },
      "execution_count": 22,
      "outputs": [
        {
          "output_type": "stream",
          "name": "stdout",
          "text": [
            "+---+-------+---+------------+\n",
            "| id|   name|age|   component|\n",
            "+---+-------+---+------------+\n",
            "|  a|  Alice| 34|412316860416|\n",
            "|  b|    Bob| 36|412316860416|\n",
            "|  c|Charlie| 30|412316860416|\n",
            "|  d|  David| 29|412316860416|\n",
            "|  e| Esther| 32|412316860416|\n",
            "|  f|  Fanny| 36|412316860416|\n",
            "|  g| George| 60|146028888064|\n",
            "+---+-------+---+------------+\n",
            "\n"
          ]
        }
      ]
    },
    {
      "cell_type": "markdown",
      "source": [
        "**Note:** Since, Node \"g\" has no outgoing or incoming edges, its connected component is different than the other nodes, which have the same component."
      ],
      "metadata": {
        "id": "gJNo4pye74qG"
      }
    },
    {
      "cell_type": "markdown",
      "source": [
        "## 5.4. Strongly Connected Components\n",
        "\n",
        "Compute the strongly connected component (SCC) of each vertex and return a DataFrame with each vertex assigned to the SCC containing that vertex."
      ],
      "metadata": {
        "id": "Z_p6zt_N14xh"
      }
    },
    {
      "cell_type": "code",
      "source": [
        "result = friends_graph.stronglyConnectedComponents(maxIter=10)\n",
        "result.show()"
      ],
      "metadata": {
        "colab": {
          "base_uri": "https://localhost:8080/"
        },
        "id": "9FQRLV-Q18eZ",
        "outputId": "00be4f95-4dd6-4c6f-edbc-8be3ab066dab"
      },
      "execution_count": 23,
      "outputs": [
        {
          "output_type": "stream",
          "name": "stdout",
          "text": [
            "+---+-------+---+-------------+\n",
            "| id|   name|age|    component|\n",
            "+---+-------+---+-------------+\n",
            "|  g| George| 60| 146028888064|\n",
            "|  f|  Fanny| 36| 412316860416|\n",
            "|  e| Esther| 32| 670014898176|\n",
            "|  d|  David| 29| 670014898176|\n",
            "|  c|Charlie| 30|1047972020224|\n",
            "|  b|    Bob| 36|1047972020224|\n",
            "|  a|  Alice| 34| 670014898176|\n",
            "+---+-------+---+-------------+\n",
            "\n"
          ]
        }
      ]
    },
    {
      "cell_type": "markdown",
      "source": [
        "**Note:** The component of Node \"g\" doesn't change. It's the same as we saw in the previous section."
      ],
      "metadata": {
        "id": "wnR0R0Z88hFv"
      }
    },
    {
      "cell_type": "markdown",
      "source": [
        "## 5.5. Label Propogation Algorithm\n",
        "\n",
        "Static Label Propagation Algorithm is used for detecting communities in networks.\n",
        "\n",
        "* Each node in the network is initially assigned to its own community. * At every superstep, nodes send their community affiliation to all neighbors and update their state to the most frequent community affiliation of incoming messages.\n",
        "* LPA is a standard community detection algorithm for graphs. It is very inexpensive computationally, although:\n",
        "  * convergence is not guaranteed and\n",
        "  * one can end up with trivial solutions (all nodes are identified into a single community)."
      ],
      "metadata": {
        "id": "deFQOW4k2XAh"
      }
    },
    {
      "cell_type": "code",
      "source": [
        "result = friends_graph.labelPropagation(maxIter=5)\n",
        "result.show()"
      ],
      "metadata": {
        "colab": {
          "base_uri": "https://localhost:8080/"
        },
        "id": "tYT1xc4r8wSr",
        "outputId": "b75ae580-103d-457d-f389-6bfa4766a870"
      },
      "execution_count": 24,
      "outputs": [
        {
          "output_type": "stream",
          "name": "stdout",
          "text": [
            "+---+-------+---+-------------+\n",
            "| id|   name|age|        label|\n",
            "+---+-------+---+-------------+\n",
            "|  g| George| 60| 146028888064|\n",
            "|  f|  Fanny| 36|1047972020224|\n",
            "|  e| Esther| 32|1460288880640|\n",
            "|  d|  David| 29|1460288880640|\n",
            "|  c|Charlie| 30|1382979469312|\n",
            "|  b|    Bob| 36|1047972020224|\n",
            "|  a|  Alice| 34|1382979469312|\n",
            "+---+-------+---+-------------+\n",
            "\n"
          ]
        }
      ]
    },
    {
      "cell_type": "markdown",
      "source": [
        "## 5.6. PageRank\n",
        "\n",
        "Identify important vertices in a graph based on connections."
      ],
      "metadata": {
        "id": "7yj6kQAi8-_g"
      }
    },
    {
      "cell_type": "code",
      "source": [
        "ranks = friends_graph.pageRank(resetProbability=0.15, maxIter=10, sourceId=\"a\")\n",
        "ranks.edges.show()\n",
        "ranks.vertices.show()"
      ],
      "metadata": {
        "colab": {
          "base_uri": "https://localhost:8080/"
        },
        "id": "J9IeAptn9CLl",
        "outputId": "4ec7629b-8e53-4099-94d3-3003e14bf81d"
      },
      "execution_count": 25,
      "outputs": [
        {
          "output_type": "stream",
          "name": "stdout",
          "text": [
            "+---+---+------------+------+\n",
            "|src|dst|relationship|weight|\n",
            "+---+---+------------+------+\n",
            "|  f|  c|      follow|   1.0|\n",
            "|  e|  f|      follow|   0.5|\n",
            "|  e|  d|      friend|   0.5|\n",
            "|  d|  a|      friend|   1.0|\n",
            "|  c|  b|      follow|   1.0|\n",
            "|  b|  c|      follow|   1.0|\n",
            "|  a|  e|      friend|   0.5|\n",
            "|  a|  b|      friend|   0.5|\n",
            "+---+---+------------+------+\n",
            "\n",
            "+---+-------+---+-------------------+\n",
            "| id|   name|age|           pagerank|\n",
            "+---+-------+---+-------------------+\n",
            "|  g| George| 60|                0.0|\n",
            "|  f|  Fanny| 36|0.03189213697274781|\n",
            "|  e| Esther| 32|0.07657840357273027|\n",
            "|  d|  David| 29|0.03189213697274781|\n",
            "|  c|Charlie| 30| 0.3459147020846817|\n",
            "|  b|    Bob| 36| 0.3366143039702568|\n",
            "|  a|  Alice| 34|0.17710831642683564|\n",
            "+---+-------+---+-------------------+\n",
            "\n"
          ]
        }
      ]
    },
    {
      "cell_type": "markdown",
      "source": [
        "## 5.7. Shortest Paths\n",
        "\n",
        "Computes shortest paths to the given set of landmark vertices, where landmarks are specified by vertex ID."
      ],
      "metadata": {
        "id": "d030Qgzf9eAU"
      }
    },
    {
      "cell_type": "code",
      "source": [
        "results = friends_graph.shortestPaths(landmarks=[\"a\", \"d\"])\n",
        "results.show()"
      ],
      "metadata": {
        "colab": {
          "base_uri": "https://localhost:8080/"
        },
        "id": "sdjPBhDj9WR1",
        "outputId": "b5b71fb5-7eb3-4409-e9ff-5677c3189ee9"
      },
      "execution_count": 26,
      "outputs": [
        {
          "output_type": "stream",
          "name": "stdout",
          "text": [
            "+---+-------+---+----------------+\n",
            "| id|   name|age|       distances|\n",
            "+---+-------+---+----------------+\n",
            "|  g| George| 60|              {}|\n",
            "|  f|  Fanny| 36|              {}|\n",
            "|  e| Esther| 32|{a -> 2, d -> 1}|\n",
            "|  d|  David| 29|{a -> 1, d -> 0}|\n",
            "|  c|Charlie| 30|              {}|\n",
            "|  b|    Bob| 36|              {}|\n",
            "|  a|  Alice| 34|{a -> 0, d -> 2}|\n",
            "+---+-------+---+----------------+\n",
            "\n"
          ]
        }
      ]
    },
    {
      "cell_type": "markdown",
      "source": [
        "## 5.8. Triangle Counts\n",
        "\n",
        "Computes the number of triangles passing through each vertex."
      ],
      "metadata": {
        "id": "2rfnUBBX9m8s"
      }
    },
    {
      "cell_type": "code",
      "source": [
        "result = friends_graph.triangleCount()\n",
        "result.show()"
      ],
      "metadata": {
        "colab": {
          "base_uri": "https://localhost:8080/"
        },
        "id": "PCjHCH_K9rKF",
        "outputId": "41367f31-7260-4e8b-97a7-2c958aa744f6"
      },
      "execution_count": 27,
      "outputs": [
        {
          "output_type": "stream",
          "name": "stdout",
          "text": [
            "+-----+---+-------+---+\n",
            "|count| id|   name|age|\n",
            "+-----+---+-------+---+\n",
            "|    0|  c|Charlie| 30|\n",
            "|    0|  b|    Bob| 36|\n",
            "|    1|  a|  Alice| 34|\n",
            "|    0|  g| George| 60|\n",
            "|    0|  f|  Fanny| 36|\n",
            "|    1|  e| Esther| 32|\n",
            "|    1|  d|  David| 29|\n",
            "+-----+---+-------+---+\n",
            "\n"
          ]
        }
      ]
    },
    {
      "cell_type": "markdown",
      "source": [
        "**Acknowledgements**:\n",
        "\n",
        "The tutorial is inspired by the content and images from the following references:\n",
        "\n",
        "[1] Official GraphX Documentation that can be found [here](https://spark.apache.org/docs/latest/graphx-programming-guide.html)\n",
        "\n",
        "[2] https://docs.databricks.com/en/_extras/notebooks/source/graphframes-user-guide-py.html"
      ],
      "metadata": {
        "id": "KREeXdYU8IQn"
      }
    }
  ]
}